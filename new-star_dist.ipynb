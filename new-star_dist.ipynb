{
 "cells": [
  {
   "cell_type": "code",
   "execution_count": 2,
   "metadata": {},
   "outputs": [],
   "source": [
    "import matplotlib.pyplot as plt\n",
    "import numpy as np\n",
    "from torch.utils.data import Dataset, DataLoader\n",
    "import numpy as np\n",
    "from scipy.spatial.distance import euclidean\n",
    "import cv2 as cv\n",
    "import pdb"
   ]
  },
  {
   "cell_type": "code",
   "execution_count": null,
   "metadata": {},
   "outputs": [],
   "source": [
    "def order_contour(contour_init):\n",
    "    contour_init = contour_init[:, [1, 0]] # cv \n",
    "    max_first_index = np.max(contour_init[:, 0])\n",
    "    # Create a boolean mask to identify rows with the maximum first index\n",
    "    filtered_data = contour_init[:, 0] == max_first_index\n",
    "    min_second_index = np.min(contour_init[filtered_data, 1])\n",
    "    # find index of max first index and min second index\n",
    "    index = np.where((contour_init[:, 0] == max_first_index) & (contour_init[:, 1] == min_second_index))[0][0]\n",
    "    rotated_arr = np.concatenate((contour_init[index:], contour_init[:index]))\n",
    "    return rotated_arr"
   ]
  },
  {
   "cell_type": "code",
   "execution_count": null,
   "metadata": {},
   "outputs": [],
   "source": [
    "def calculate_starGT(instance_segmentation_map, n_rays = 32):\n",
    "        \"\"\"\n",
    "        Calculate object prob for each pixel in the image.\n",
    "        Args:\n",
    "        - instance_segmentation_map: A 2D numpy array representing the instance segmentation map.\n",
    "        - n_rays: The number of rays to sample for each instance.\n",
    "        Returns:\n",
    "        - object_probabilities: A 2D numpy array of the same shape as the input image with object probabilities.\n",
    "        - star_distances: A 3D numpy array of shape (H, W, n_rays) with distances to the n_rays star points.\n",
    "        - angles: A 3D numpy array of shape (H, W, n_rays) with angles to the n_rays star points.\n",
    "        \"\"\"\n",
    "\n",
    "        # init the object probs with zeros\n",
    "        object_probabilities = np.zeros_like(instance_segmentation_map, dtype=float)\n",
    "        star_distances = np.zeros((instance_segmentation_map.shape[0],instance_segmentation_map.shape[1],n_rays), dtype=float)\n",
    "        angles = np.zeros_like(star_distances, dtype=float)\n",
    "        # iterate over each instance\n",
    "        for inst in np.unique(instance_segmentation_map)[1:]:\n",
    "            instance_pixels = (instance_segmentation_map == inst)\n",
    "            contour_initial, _ = cv.findContours(instance_pixels.astype(np.uint8), cv.RETR_EXTERNAL, cv.CHAIN_APPROX_NONE)\n",
    "            contour_initial = contour_initial[0][:, 0, :]\n",
    "            contour = order_contour(contour_initial)\n",
    "            # randomly sample n_rays points on the boundary\n",
    "            contour_n = contour[np.linspace(0, len(contour) - 1, n_rays).astype(int)]\n",
    "\n",
    "            # iterate over each pixel in the instance\n",
    "            for i in range(instance_segmentation_map.shape[0]):\n",
    "                for j in range(instance_segmentation_map.shape[1]):\n",
    "                    if instance_pixels[i,j]:\n",
    "                        distances_to_background = np.linalg.norm(\n",
    "                        contour - np.array([i, j]), axis=1\n",
    "                        )\n",
    "                        min_distance = np.min(distances_to_background)\n",
    "                        # normalize to [0, 1]\n",
    "                        try:\n",
    "                            object_probabilities[i, j] = min_distance / distances_to_background.max()\n",
    "                        except:\n",
    "                            object_probabilities[i, j] = 0\n",
    "                        # calculate the distance from instace pixel to each ray point using np.linalg.norm\n",
    "                        star_distances[i,j] = np.linalg.norm(contour_n - np.array([i, j]), axis=1)\n",
    "                        # calc the angles with respect to the j-axis \n",
    "                        angles_ray = np.arctan2(contour_n[:, 1] - j, contour_n[:, 0] - i)\n",
    "                        # angles from [-pi,pi] --> [0, 2pi] and normalize to [0, 1]\n",
    "                        angles[i,j] = ((angles_ray + 2 * np.pi) % (2 * np.pi)) / (2 * np.pi)               \n",
    "        return object_probabilities, star_distances, angles "
   ]
  },
  {
   "cell_type": "code",
   "execution_count": null,
   "metadata": {},
   "outputs": [],
   "source": [
    "labels_path = \"./data/labels.npy\"\n",
    "images_path = \"./data/images.npy\"\n",
    "\n",
    "instance_map = np.load(labels_path)[5,:,:,0]\n",
    "image = np.load(images_path)[5,:,:,:]"
   ]
  },
  {
   "cell_type": "code",
   "execution_count": null,
   "metadata": {},
   "outputs": [],
   "source": [
    "object_probabilities, star_distances, angles  = calculate_starGT(instance_map, n_rays = 16)\n"
   ]
  },
  {
   "cell_type": "code",
   "execution_count": null,
   "metadata": {},
   "outputs": [],
   "source": [
    "plt.imshow(object_probabilities)"
   ]
  },
  {
   "cell_type": "code",
   "execution_count": null,
   "metadata": {},
   "outputs": [],
   "source": [
    "# select points where object_probabilities > 0.72\n",
    "points = np.argwhere(object_probabilities > 0.68)\n",
    "plt.imshow(instance_map)\n",
    "plt.scatter(points[:,1], points[:,0], s=2, c='r')\n",
    "plt.show()"
   ]
  },
  {
   "cell_type": "code",
   "execution_count": null,
   "metadata": {},
   "outputs": [],
   "source": [
    "import numpy as np\n",
    "\n",
    "def calculate_endpoint(start_point, length, angle_rad):\n",
    "    x_start, y_start = start_point\n",
    "    delta_x = length * np.cos(angle_rad)\n",
    "    delta_y = length * np.sin(angle_rad)\n",
    "    x_end = x_start + delta_x\n",
    "    y_end = y_start + delta_y\n",
    "    return x_end, y_end\n",
    "\n",
    "start_point = np.array([141,  56])\n",
    "length = star_distances[start_point[0], start_point[1]]\n",
    "angle_rad = angles[start_point[0], start_point[1]] * 2 * np.pi\n",
    "x , y = calculate_endpoint(start_point, length, angle_rad)\n",
    "print(x,y)"
   ]
  },
  {
   "cell_type": "code",
   "execution_count": null,
   "metadata": {},
   "outputs": [],
   "source": [
    "# calculate 99.5 percentile object_probabilities\n",
    "percentile_99_5 = np.percentile(object_probabilities, 99.5)\n",
    "# select points whcih are atleast 5 pixels away from each other\n",
    "def filter_points(points, x):\n",
    "    filtered_points = []\n",
    "    \n",
    "    for i, point1 in enumerate(points):\n",
    "        is_valid = True\n",
    "        \n",
    "        for j, point2 in enumerate(points):\n",
    "            if i != j:  # Avoid comparing the point to itself\n",
    "                distance = np.linalg.norm(np.array(point1) - np.array(point2))\n",
    "                if distance < x:\n",
    "                    is_valid = False\n",
    "                    break  # No need to check other points\n",
    "                \n",
    "        if is_valid:\n",
    "            filtered_points.append(point1)\n",
    "    \n",
    "    return np.array(filtered_points)\n",
    "\n",
    "# select points where object_probabilities > percentile_99.5\n",
    "mid_points = np.argwhere(object_probabilities > percentile_99_5)\n",
    "# filter points\n",
    "filtered_points = filter_points(mid_points, 5)\n",
    "plt.imshow(image)\n",
    "plt.scatter(filtered_points[:,1], filtered_points[:,0], s=1, c='r')\n",
    "for point in filtered_points:\n",
    "    start_point = point\n",
    "    length = star_distances[start_point[0], start_point[1]]\n",
    "    angle_rad = angles[start_point[0], start_point[1]] * 2 * np.pi\n",
    "    print(point)\n",
    "    print(angle_rad)\n",
    "    x , y = calculate_endpoint(start_point, length, angle_rad)\n",
    "    plt.plot(y,x, c='black')\n",
    "plt.show()"
   ]
  },
  {
   "cell_type": "code",
   "execution_count": null,
   "metadata": {},
   "outputs": [],
   "source": [
    "star_d = (star_distances[filtered_points[:,0],filtered_points[:,1]])\n",
    "star_theta = (angles[filtered_points[:,0],filtered_points[:,1]] * 2 * np.pi)\n",
    "delta_x = star_d * np.cos(star_theta)\n",
    "delta_y = star_d * np.sin(star_theta)\n",
    "x_end = filtered_points[:,0].reshape(-1,1) + delta_x\n",
    "y_end = filtered_points[:,1].reshape(-1,1) + delta_y"
   ]
  },
  {
   "cell_type": "code",
   "execution_count": null,
   "metadata": {},
   "outputs": [],
   "source": [
    "plt.imshow(instance_map)\n",
    "plt.scatter(filtered_points[:,1], filtered_points[:,0], s=1, c='r')\n",
    "plt.scatter(y_end,x_end,s=1, c='black')"
   ]
  },
  {
   "cell_type": "code",
   "execution_count": null,
   "metadata": {},
   "outputs": [],
   "source": [
    "plt.imshow(image)\n",
    "plt.scatter(filtered_points[:,1], filtered_points[:,0], s=1, c='r')\n",
    "plt.scatter(y_end,x_end,s=1, c='black')"
   ]
  },
  {
   "cell_type": "code",
   "execution_count": null,
   "metadata": {},
   "outputs": [],
   "source": [
    "fig, ax = plt.subplots()\n",
    "\n",
    "for i in range(len(filtered_points)):\n",
    "    for j in range(8):\n",
    "        ax.quiver(filtered_points[i,1], filtered_points[i,0], delta_x[i,j], delta_y[i,j], angles='xy', scale_units='xy', scale=1, color='b')"
   ]
  },
  {
   "cell_type": "markdown",
   "metadata": {},
   "source": [
    "## check circular loss"
   ]
  },
  {
   "cell_type": "code",
   "execution_count": null,
   "metadata": {},
   "outputs": [],
   "source": [
    "import torch"
   ]
  },
  {
   "cell_type": "code",
   "execution_count": null,
   "metadata": {},
   "outputs": [],
   "source": [
    "from utils.circular_loss import CircularAELoss\n",
    "criterion = CircularAELoss()\n",
    "a = torch.tensor([[0.2,0.4,0.6],[0.8,1.0,0.6]])\n",
    "b = torch.tensor([[1,0,1],[0,1,0]])\n",
    "loss = criterion(a,b)"
   ]
  },
  {
   "cell_type": "code",
   "execution_count": null,
   "metadata": {},
   "outputs": [],
   "source": [
    "loss"
   ]
  },
  {
   "cell_type": "markdown",
   "metadata": {},
   "source": [
    "## Create a toy data set to test "
   ]
  },
  {
   "cell_type": "code",
   "execution_count": null,
   "metadata": {},
   "outputs": [],
   "source": [
    "images_path = \"./data/images.npy\"\n",
    "labels_path = \"./data/labels.npy\"\n",
    "\n",
    "images = np.load(images_path)\n",
    "labels = np.load(labels_path)\n",
    "\n",
    "toy_images = images[:2400,:,:,:]\n",
    "toy_labels = labels[:2400,:,:,:]\n",
    "\n",
    "save_images_path = \"./data/images_50.npy\"\n",
    "save_labels_path = \"./data/labels_50.npy\"\n",
    "\n",
    "np.save(save_images_path, toy_images)\n",
    "np.save(save_labels_path, toy_labels)"
   ]
  },
  {
   "cell_type": "markdown",
   "metadata": {},
   "source": [
    "## NMS"
   ]
  },
  {
   "cell_type": "code",
   "execution_count": 3,
   "metadata": {},
   "outputs": [],
   "source": [
    "obj_prob = np.load(\"./temp/pred_prob.npy\")\n",
    "star_dist = np.load(\"./temp/pred_dist.npy\")\n",
    "angles = np.load(\"./temp/pred_angles.npy\")"
   ]
  },
  {
   "cell_type": "code",
   "execution_count": 4,
   "metadata": {},
   "outputs": [],
   "source": [
    "obj_prob = obj_prob[0,:,:]\n",
    "star_dist = star_dist[0,:,:,:]\n",
    "angles = angles[0,:,:,:]"
   ]
  },
  {
   "cell_type": "code",
   "execution_count": 5,
   "metadata": {},
   "outputs": [
    {
     "data": {
      "text/plain": [
       "((256, 256), (256, 256, 16), (256, 256, 16))"
      ]
     },
     "execution_count": 5,
     "metadata": {},
     "output_type": "execute_result"
    }
   ],
   "source": [
    "obj_prob.shape, star_dist.shape, angles.shape"
   ]
  },
  {
   "cell_type": "code",
   "execution_count": 6,
   "metadata": {},
   "outputs": [],
   "source": [
    "def calculate_endpoint(start_point, length, angle_rad):\n",
    "    x_start, y_start = start_point[0], start_point[1]\n",
    "    delta_x = length * np.cos(angle_rad)\n",
    "    delta_y = length * np.sin(angle_rad)\n",
    "    x_end = x_start + delta_x\n",
    "    y_end = y_start + delta_y\n",
    "    return x_end, y_end"
   ]
  },
  {
   "cell_type": "code",
   "execution_count": 7,
   "metadata": {},
   "outputs": [],
   "source": [
    "points = np.argwhere(obj_prob > 0.35)\n",
    "prob_points = obj_prob[points[:,0],points[:,1]]\n",
    "sorted_points = points[np.argsort(prob_points)[::-1]]\n",
    "num_points = sorted_points.shape[0]\n",
    "X = []\n",
    "Y = []\n",
    "for point in sorted_points:\n",
    "    len = star_dist[point[0],point[1]]\n",
    "    theta = angles[point[0],point[1]] * 2 * np.pi\n",
    "    x , y = calculate_endpoint(point, len, theta)\n",
    "    X.append(x)\n",
    "    Y.append(y)\n",
    "X1 = np.array(X)\n",
    "Y1 = np.array(Y)\n",
    "end_points = np.stack((Y1,X1), axis=-1).astype(int)\n",
    "mask_nms = np.zeros((num_points,256,256), dtype=np.uint8)\n",
    "for i in range(num_points):\n",
    "    cv.fillPoly(mask_nms[i], pts=[end_points[i]], color=1)"
   ]
  },
  {
   "cell_type": "code",
   "execution_count": 8,
   "metadata": {},
   "outputs": [
    {
     "data": {
      "image/png": "[encoded data removed]",
      "text/plain": [
       "<Figure size 640x480 with 1 Axes>"
      ]
     },
     "metadata": {},
     "output_type": "display_data"
    },
    {
     "data": {
      "image/png": "[encoded data removed]",
      "text/plain": [
       "<Figure size 640x480 with 1 Axes>"
      ]
     },
     "metadata": {},
     "output_type": "display_data"
    },
    {
     "data": {
      "image/png": "[encoded data removed]",
      "text/plain": [
       "<Figure size 640x480 with 1 Axes>"
      ]
     },
     "metadata": {},
     "output_type": "display_data"
    }
   ],
   "source": [
    "for i in range(end_points.shape[0]):\n",
    "    plt.imshow(mask_nms[i])\n",
    "    plt.show()"
   ]
  },
  {
   "cell_type": "code",
   "execution_count": 25,
   "metadata": {},
   "outputs": [],
   "source": [
    "def non_max_suppression(masks, iou_threshold):\n",
    "    \"\"\"\n",
    "    Perform Non-Maximum Suppression (NMS) on a list of masks.\n",
    "    \n",
    "    Args:\n",
    "        masks (numpy.ndarray): A numpy array of shape (n, 256, 256) containing binary masks.\n",
    "        probabilities (list of floats): List of confidence probabilities for each mask (length n).\n",
    "        iou_threshold (float): IoU (Intersection over Union) threshold for suppression.\n",
    "        \n",
    "    Returns:\n",
    "        List of selected masks after NMS.\n",
    "    \"\"\"\n",
    "    selected_masks = []  # List to store selected masks\n",
    "    n = masks.shape[0]  # Number of masks\n",
    "\n",
    "    # Iterate through masks in descending order of probability\n",
    "    for i in range(n):\n",
    "        mask = masks[i]\n",
    "        keep_mask = True  # Flag to determine if the mask should be kept\n",
    "        # Calculate IoU with previously selected masks\n",
    "        size = 0\n",
    "        for _ in selected_masks:\n",
    "            size += 1\n",
    "        for j in range(size):\n",
    "            iou = np.sum(mask & selected_masks[j]) / np.sum(mask | selected_masks[j])\n",
    "            \n",
    "            # If IoU is above the threshold, suppress the current mask\n",
    "            if iou > iou_threshold:\n",
    "                keep_mask = False\n",
    "                break\n",
    "        \n",
    "        # If the mask is not suppressed, add it to the selected masks list\n",
    "        if keep_mask:\n",
    "            selected_masks.append(mask)\n",
    "    \n",
    "    return selected_masks"
   ]
  },
  {
   "cell_type": "code",
   "execution_count": 26,
   "metadata": {},
   "outputs": [],
   "source": [
    "final_masks = non_max_suppression(mask_nms, 0.5)"
   ]
  },
  {
   "cell_type": "code",
   "execution_count": 30,
   "metadata": {},
   "outputs": [
    {
     "data": {
      "text/plain": [
       "(1, 256, 256)"
      ]
     },
     "execution_count": 30,
     "metadata": {},
     "output_type": "execute_result"
    }
   ],
   "source": [
    "np.array(final_masks).shape"
   ]
  },
  {
   "cell_type": "code",
   "execution_count": 24,
   "metadata": {},
   "outputs": [
    {
     "ename": "TypeError",
     "evalue": "'int' object is not callable",
     "output_type": "error",
     "traceback": [
      "\u001b[1;31m---------------------------------------------------------------------------\u001b[0m",
      "\u001b[1;31mTypeError\u001b[0m                                 Traceback (most recent call last)",
      "\u001b[1;32mc:\\Users\\nisch\\OneDrive\\Documents\\stardist\\StarDist-Lizard\\new-star_dist.ipynb Cell 29\u001b[0m line \u001b[0;36m4\n\u001b[0;32m      <a href='vscode-notebook-cell:/c%3A/Users/nisch/OneDrive/Documents/stardist/StarDist-Lizard/new-star_dist.ipynb#Y162sZmlsZQ%3D%3D?line=1'>2</a>\u001b[0m baba \u001b[39m=\u001b[39m []\n\u001b[0;32m      <a href='vscode-notebook-cell:/c%3A/Users/nisch/OneDrive/Documents/stardist/StarDist-Lizard/new-star_dist.ipynb#Y162sZmlsZQ%3D%3D?line=2'>3</a>\u001b[0m \u001b[39m#find length of the list\u001b[39;00m\n\u001b[1;32m----> <a href='vscode-notebook-cell:/c%3A/Users/nisch/OneDrive/Documents/stardist/StarDist-Lizard/new-star_dist.ipynb#Y162sZmlsZQ%3D%3D?line=3'>4</a>\u001b[0m n \u001b[39m=\u001b[39m size(baba)\n",
      "\u001b[1;31mTypeError\u001b[0m: 'int' object is not callable"
     ]
    }
   ],
   "source": [
    "# create a python list\n",
    "baba = []\n",
    "#find length of the list\n",
    "n = size(baba)"
   ]
  },
  {
   "cell_type": "code",
   "execution_count": 20,
   "metadata": {},
   "outputs": [
    {
     "name": "stdout",
     "output_type": "stream",
     "text": [
      "4\n"
     ]
    }
   ],
   "source": [
    "inp_lst = ['Python', 'Java', 'Ruby', 'JavaScript']\n",
    "size = 0\n",
    "for x in inp_lst:\n",
    "    size += 1\n",
    "print(size)"
   ]
  },
  {
   "cell_type": "code",
   "execution_count": null,
   "metadata": {},
   "outputs": [],
   "source": []
  }
 ],
 "metadata": {
  "kernelspec": {
   "display_name": "venv",
   "language": "python",
   "name": "python3"
  },
  "language_info": {
   "codemirror_mode": {
    "name": "ipython",
    "version": 3
   },
   "file_extension": ".py",
   "mimetype": "text/x-python",
   "name": "python",
   "nbconvert_exporter": "python",
   "pygments_lexer": "ipython3",
   "version": "3.8.18"
  },
  "orig_nbformat": 4
 },
 "nbformat": 4,
 "nbformat_minor": 2
}
